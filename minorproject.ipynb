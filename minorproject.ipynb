{
  "cells": [
    {
      "cell_type": "markdown",
      "metadata": {
        "id": "view-in-github",
        "colab_type": "text"
      },
      "source": [
        "<a href=\"https://colab.research.google.com/github/geniusnisha/python/blob/main/minorproject.ipynb\" target=\"_parent\"><img src=\"https://colab.research.google.com/assets/colab-badge.svg\" alt=\"Open In Colab\"/></a>"
      ]
    },
    {
      "cell_type": "code",
      "execution_count": 1,
      "id": "91c8cb9b",
      "metadata": {
        "id": "91c8cb9b"
      },
      "outputs": [],
      "source": [
        "# import libraries\n",
        "import pandas as pd\n",
        "import numpy as np\n",
        "import matplotlib.pyplot as plt\n",
        "import warnings\n",
        "warnings.filterwarnings(action='ignore')"
      ]
    },
    {
      "cell_type": "markdown",
      "id": "d84403a1",
      "metadata": {
        "id": "d84403a1"
      },
      "source": [
        "# import data set"
      ]
    },
    {
      "cell_type": "code",
      "execution_count": 3,
      "id": "aa6a1f52",
      "metadata": {
        "id": "aa6a1f52"
      },
      "outputs": [],
      "source": [
        "df=pd.read_csv('advertising.csv')"
      ]
    },
    {
      "cell_type": "code",
      "execution_count": 4,
      "id": "98f3f3ca",
      "metadata": {
        "id": "98f3f3ca",
        "outputId": "651e164b-9e91-4291-831f-a4c9894566f7",
        "colab": {
          "base_uri": "https://localhost:8080/",
          "height": 354
        }
      },
      "outputs": [
        {
          "output_type": "execute_result",
          "data": {
            "text/plain": [
              "   Daily Time Spent on Site  Age  Area Income  Daily Internet Usage  \\\n",
              "0                     68.95   35     61833.90                256.09   \n",
              "1                     80.23   31     68441.85                193.77   \n",
              "2                     69.47   26     59785.94                236.50   \n",
              "3                     74.15   29     54806.18                245.89   \n",
              "4                     68.37   35     73889.99                225.58   \n",
              "\n",
              "                           Ad Topic Line            City  Male     Country  \\\n",
              "0     Cloned 5thgeneration orchestration     Wrightburgh     0     Tunisia   \n",
              "1     Monitored national standardization       West Jodi     1       Nauru   \n",
              "2       Organic bottom-line service-desk        Davidton     0  San Marino   \n",
              "3  Triple-buffered reciprocal time-frame  West Terrifurt     1       Italy   \n",
              "4          Robust logistical utilization    South Manuel     0     Iceland   \n",
              "\n",
              "             Timestamp  Clicked on Ad  \n",
              "0  2016-03-27 00:53:11              0  \n",
              "1  2016-04-04 01:39:02              0  \n",
              "2  2016-03-13 20:35:42              0  \n",
              "3  2016-01-10 02:31:19              0  \n",
              "4  2016-06-03 03:36:18              0  "
            ],
            "text/html": [
              "\n",
              "  <div id=\"df-eed54ca2-7a11-47d5-9cd5-fdede3ebdba9\">\n",
              "    <div class=\"colab-df-container\">\n",
              "      <div>\n",
              "<style scoped>\n",
              "    .dataframe tbody tr th:only-of-type {\n",
              "        vertical-align: middle;\n",
              "    }\n",
              "\n",
              "    .dataframe tbody tr th {\n",
              "        vertical-align: top;\n",
              "    }\n",
              "\n",
              "    .dataframe thead th {\n",
              "        text-align: right;\n",
              "    }\n",
              "</style>\n",
              "<table border=\"1\" class=\"dataframe\">\n",
              "  <thead>\n",
              "    <tr style=\"text-align: right;\">\n",
              "      <th></th>\n",
              "      <th>Daily Time Spent on Site</th>\n",
              "      <th>Age</th>\n",
              "      <th>Area Income</th>\n",
              "      <th>Daily Internet Usage</th>\n",
              "      <th>Ad Topic Line</th>\n",
              "      <th>City</th>\n",
              "      <th>Male</th>\n",
              "      <th>Country</th>\n",
              "      <th>Timestamp</th>\n",
              "      <th>Clicked on Ad</th>\n",
              "    </tr>\n",
              "  </thead>\n",
              "  <tbody>\n",
              "    <tr>\n",
              "      <th>0</th>\n",
              "      <td>68.95</td>\n",
              "      <td>35</td>\n",
              "      <td>61833.90</td>\n",
              "      <td>256.09</td>\n",
              "      <td>Cloned 5thgeneration orchestration</td>\n",
              "      <td>Wrightburgh</td>\n",
              "      <td>0</td>\n",
              "      <td>Tunisia</td>\n",
              "      <td>2016-03-27 00:53:11</td>\n",
              "      <td>0</td>\n",
              "    </tr>\n",
              "    <tr>\n",
              "      <th>1</th>\n",
              "      <td>80.23</td>\n",
              "      <td>31</td>\n",
              "      <td>68441.85</td>\n",
              "      <td>193.77</td>\n",
              "      <td>Monitored national standardization</td>\n",
              "      <td>West Jodi</td>\n",
              "      <td>1</td>\n",
              "      <td>Nauru</td>\n",
              "      <td>2016-04-04 01:39:02</td>\n",
              "      <td>0</td>\n",
              "    </tr>\n",
              "    <tr>\n",
              "      <th>2</th>\n",
              "      <td>69.47</td>\n",
              "      <td>26</td>\n",
              "      <td>59785.94</td>\n",
              "      <td>236.50</td>\n",
              "      <td>Organic bottom-line service-desk</td>\n",
              "      <td>Davidton</td>\n",
              "      <td>0</td>\n",
              "      <td>San Marino</td>\n",
              "      <td>2016-03-13 20:35:42</td>\n",
              "      <td>0</td>\n",
              "    </tr>\n",
              "    <tr>\n",
              "      <th>3</th>\n",
              "      <td>74.15</td>\n",
              "      <td>29</td>\n",
              "      <td>54806.18</td>\n",
              "      <td>245.89</td>\n",
              "      <td>Triple-buffered reciprocal time-frame</td>\n",
              "      <td>West Terrifurt</td>\n",
              "      <td>1</td>\n",
              "      <td>Italy</td>\n",
              "      <td>2016-01-10 02:31:19</td>\n",
              "      <td>0</td>\n",
              "    </tr>\n",
              "    <tr>\n",
              "      <th>4</th>\n",
              "      <td>68.37</td>\n",
              "      <td>35</td>\n",
              "      <td>73889.99</td>\n",
              "      <td>225.58</td>\n",
              "      <td>Robust logistical utilization</td>\n",
              "      <td>South Manuel</td>\n",
              "      <td>0</td>\n",
              "      <td>Iceland</td>\n",
              "      <td>2016-06-03 03:36:18</td>\n",
              "      <td>0</td>\n",
              "    </tr>\n",
              "  </tbody>\n",
              "</table>\n",
              "</div>\n",
              "      <button class=\"colab-df-convert\" onclick=\"convertToInteractive('df-eed54ca2-7a11-47d5-9cd5-fdede3ebdba9')\"\n",
              "              title=\"Convert this dataframe to an interactive table.\"\n",
              "              style=\"display:none;\">\n",
              "        \n",
              "  <svg xmlns=\"http://www.w3.org/2000/svg\" height=\"24px\"viewBox=\"0 0 24 24\"\n",
              "       width=\"24px\">\n",
              "    <path d=\"M0 0h24v24H0V0z\" fill=\"none\"/>\n",
              "    <path d=\"M18.56 5.44l.94 2.06.94-2.06 2.06-.94-2.06-.94-.94-2.06-.94 2.06-2.06.94zm-11 1L8.5 8.5l.94-2.06 2.06-.94-2.06-.94L8.5 2.5l-.94 2.06-2.06.94zm10 10l.94 2.06.94-2.06 2.06-.94-2.06-.94-.94-2.06-.94 2.06-2.06.94z\"/><path d=\"M17.41 7.96l-1.37-1.37c-.4-.4-.92-.59-1.43-.59-.52 0-1.04.2-1.43.59L10.3 9.45l-7.72 7.72c-.78.78-.78 2.05 0 2.83L4 21.41c.39.39.9.59 1.41.59.51 0 1.02-.2 1.41-.59l7.78-7.78 2.81-2.81c.8-.78.8-2.07 0-2.86zM5.41 20L4 18.59l7.72-7.72 1.47 1.35L5.41 20z\"/>\n",
              "  </svg>\n",
              "      </button>\n",
              "      \n",
              "  <style>\n",
              "    .colab-df-container {\n",
              "      display:flex;\n",
              "      flex-wrap:wrap;\n",
              "      gap: 12px;\n",
              "    }\n",
              "\n",
              "    .colab-df-convert {\n",
              "      background-color: #E8F0FE;\n",
              "      border: none;\n",
              "      border-radius: 50%;\n",
              "      cursor: pointer;\n",
              "      display: none;\n",
              "      fill: #1967D2;\n",
              "      height: 32px;\n",
              "      padding: 0 0 0 0;\n",
              "      width: 32px;\n",
              "    }\n",
              "\n",
              "    .colab-df-convert:hover {\n",
              "      background-color: #E2EBFA;\n",
              "      box-shadow: 0px 1px 2px rgba(60, 64, 67, 0.3), 0px 1px 3px 1px rgba(60, 64, 67, 0.15);\n",
              "      fill: #174EA6;\n",
              "    }\n",
              "\n",
              "    [theme=dark] .colab-df-convert {\n",
              "      background-color: #3B4455;\n",
              "      fill: #D2E3FC;\n",
              "    }\n",
              "\n",
              "    [theme=dark] .colab-df-convert:hover {\n",
              "      background-color: #434B5C;\n",
              "      box-shadow: 0px 1px 3px 1px rgba(0, 0, 0, 0.15);\n",
              "      filter: drop-shadow(0px 1px 2px rgba(0, 0, 0, 0.3));\n",
              "      fill: #FFFFFF;\n",
              "    }\n",
              "  </style>\n",
              "\n",
              "      <script>\n",
              "        const buttonEl =\n",
              "          document.querySelector('#df-eed54ca2-7a11-47d5-9cd5-fdede3ebdba9 button.colab-df-convert');\n",
              "        buttonEl.style.display =\n",
              "          google.colab.kernel.accessAllowed ? 'block' : 'none';\n",
              "\n",
              "        async function convertToInteractive(key) {\n",
              "          const element = document.querySelector('#df-eed54ca2-7a11-47d5-9cd5-fdede3ebdba9');\n",
              "          const dataTable =\n",
              "            await google.colab.kernel.invokeFunction('convertToInteractive',\n",
              "                                                     [key], {});\n",
              "          if (!dataTable) return;\n",
              "\n",
              "          const docLinkHtml = 'Like what you see? Visit the ' +\n",
              "            '<a target=\"_blank\" href=https://colab.research.google.com/notebooks/data_table.ipynb>data table notebook</a>'\n",
              "            + ' to learn more about interactive tables.';\n",
              "          element.innerHTML = '';\n",
              "          dataTable['output_type'] = 'display_data';\n",
              "          await google.colab.output.renderOutput(dataTable, element);\n",
              "          const docLink = document.createElement('div');\n",
              "          docLink.innerHTML = docLinkHtml;\n",
              "          element.appendChild(docLink);\n",
              "        }\n",
              "      </script>\n",
              "    </div>\n",
              "  </div>\n",
              "  "
            ]
          },
          "metadata": {},
          "execution_count": 4
        }
      ],
      "source": [
        "df.head()"
      ]
    },
    {
      "cell_type": "code",
      "execution_count": 5,
      "id": "fb5fe16a",
      "metadata": {
        "colab": {
          "base_uri": "https://localhost:8080/"
        },
        "id": "fb5fe16a",
        "outputId": "d85a23de-6d8e-459f-fcfe-f57bf1839b38"
      },
      "outputs": [
        {
          "output_type": "stream",
          "name": "stdout",
          "text": [
            "<class 'pandas.core.frame.DataFrame'>\n",
            "RangeIndex: 1000 entries, 0 to 999\n",
            "Data columns (total 10 columns):\n",
            " #   Column                    Non-Null Count  Dtype  \n",
            "---  ------                    --------------  -----  \n",
            " 0   Daily Time Spent on Site  1000 non-null   float64\n",
            " 1   Age                       1000 non-null   int64  \n",
            " 2   Area Income               1000 non-null   float64\n",
            " 3   Daily Internet Usage      1000 non-null   float64\n",
            " 4   Ad Topic Line             1000 non-null   object \n",
            " 5   City                      1000 non-null   object \n",
            " 6   Male                      1000 non-null   int64  \n",
            " 7   Country                   1000 non-null   object \n",
            " 8   Timestamp                 1000 non-null   object \n",
            " 9   Clicked on Ad             1000 non-null   int64  \n",
            "dtypes: float64(3), int64(3), object(4)\n",
            "memory usage: 78.2+ KB\n"
          ]
        }
      ],
      "source": [
        "df.info()"
      ]
    },
    {
      "cell_type": "code",
      "execution_count": 6,
      "id": "2bcbadd4",
      "metadata": {
        "id": "2bcbadd4"
      },
      "outputs": [],
      "source": [
        "df.drop('Ad Topic Line', axis=1,inplace=True)\n",
        "df.drop('City' ,axis=1,inplace=True)\n",
        "df.drop('Country', axis=1,inplace=True)\n",
        "df.drop('Timestamp' ,axis=1,inplace=True)"
      ]
    },
    {
      "cell_type": "code",
      "execution_count": 7,
      "id": "1a525995",
      "metadata": {
        "colab": {
          "base_uri": "https://localhost:8080/"
        },
        "id": "1a525995",
        "outputId": "160a6069-1795-4cf2-e15e-efd13dc8cdb5"
      },
      "outputs": [
        {
          "output_type": "stream",
          "name": "stdout",
          "text": [
            "<class 'pandas.core.frame.DataFrame'>\n",
            "RangeIndex: 1000 entries, 0 to 999\n",
            "Data columns (total 6 columns):\n",
            " #   Column                    Non-Null Count  Dtype  \n",
            "---  ------                    --------------  -----  \n",
            " 0   Daily Time Spent on Site  1000 non-null   float64\n",
            " 1   Age                       1000 non-null   int64  \n",
            " 2   Area Income               1000 non-null   float64\n",
            " 3   Daily Internet Usage      1000 non-null   float64\n",
            " 4   Male                      1000 non-null   int64  \n",
            " 5   Clicked on Ad             1000 non-null   int64  \n",
            "dtypes: float64(3), int64(3)\n",
            "memory usage: 47.0 KB\n"
          ]
        }
      ],
      "source": [
        "df.info()"
      ]
    },
    {
      "cell_type": "markdown",
      "id": "351951e1",
      "metadata": {
        "id": "351951e1"
      },
      "source": [
        "# exploratory data analysis"
      ]
    },
    {
      "cell_type": "code",
      "execution_count": 8,
      "id": "9e5683de",
      "metadata": {
        "colab": {
          "base_uri": "https://localhost:8080/",
          "height": 265
        },
        "id": "9e5683de",
        "outputId": "37b661d1-c2a1-4fe7-eb02-49276dfe80ca"
      },
      "outputs": [
        {
          "output_type": "display_data",
          "data": {
            "text/plain": [
              "<Figure size 432x288 with 1 Axes>"
            ],
            "image/png": "[encoded data removed]"
          },
          "metadata": {
            "needs_background": "light"
          }
        }
      ],
      "source": [
        "plt.scatter(x=df['Clicked on Ad'],y=df['Daily Internet Usage'],color='green')\n",
        "plt.xlabel=(\"Clicked on Ad\")\n",
        "plt.ylabel=(\"Daily Internet Usage\")\n",
        "plt.show()"
      ]
    },
    {
      "cell_type": "code",
      "execution_count": 9,
      "id": "6cd694a2",
      "metadata": {
        "colab": {
          "base_uri": "https://localhost:8080/",
          "height": 265
        },
        "id": "6cd694a2",
        "outputId": "60166fc9-829e-4ba8-f670-224a9e5c004f"
      },
      "outputs": [
        {
          "output_type": "display_data",
          "data": {
            "text/plain": [
              "<Figure size 432x288 with 1 Axes>"
            ],
            "image/png": "[encoded data removed]"
          },
          "metadata": {
            "needs_background": "light"
          }
        }
      ],
      "source": [
        "plt.scatter(x=df['Clicked on Ad'],y=df['Male'],color='green')\n",
        "plt.xlabel=(\"Clicked on Ad\")\n",
        "plt.ylabel=(\"male\")\n",
        "plt.show()"
      ]
    },
    {
      "cell_type": "code",
      "execution_count": 10,
      "id": "13c52f3d",
      "metadata": {
        "colab": {
          "base_uri": "https://localhost:8080/",
          "height": 317
        },
        "id": "13c52f3d",
        "outputId": "b0786cd1-b4d2-4061-dbc7-6c404cbc2db5"
      },
      "outputs": [
        {
          "output_type": "execute_result",
          "data": {
            "text/plain": [
              "(array([519.,   0.,   0.,   0.,   0.,   0.,   0.,   0.,   0., 481.]),\n",
              " array([0. , 0.1, 0.2, 0.3, 0.4, 0.5, 0.6, 0.7, 0.8, 0.9, 1. ]),\n",
              " <a list of 10 Patch objects>)"
            ]
          },
          "metadata": {},
          "execution_count": 10
        },
        {
          "output_type": "display_data",
          "data": {
            "text/plain": [
              "<Figure size 432x288 with 1 Axes>"
            ],
            "image/png": "[encoded data removed]"
          },
          "metadata": {
            "needs_background": "light"
          }
        }
      ],
      "source": [
        "plt.hist(df['Male'])"
      ]
    },
    {
      "cell_type": "code",
      "execution_count": 11,
      "id": "9cb2de71",
      "metadata": {
        "colab": {
          "base_uri": "https://localhost:8080/",
          "height": 265
        },
        "id": "9cb2de71",
        "outputId": "e518b234-0cbb-4093-f86a-95ed1081be27"
      },
      "outputs": [
        {
          "output_type": "display_data",
          "data": {
            "text/plain": [
              "<Figure size 432x288 with 1 Axes>"
            ],
            "image/png": "[encoded data removed]"
          },
          "metadata": {
            "needs_background": "light"
          }
        }
      ],
      "source": [
        "plt.hist(df['Age'],color='green')\n",
        "plt.xlabel=(\"Clicked on Ad\")\n",
        "plt.ylabel=(\"age\")\n",
        "plt.show()"
      ]
    },
    {
      "cell_type": "markdown",
      "id": "90ff3811",
      "metadata": {
        "id": "90ff3811"
      },
      "source": [
        "# train test data"
      ]
    },
    {
      "cell_type": "code",
      "execution_count": 12,
      "id": "299e0561",
      "metadata": {
        "id": "299e0561"
      },
      "outputs": [],
      "source": [
        "from sklearn.model_selection import train_test_split"
      ]
    },
    {
      "cell_type": "code",
      "execution_count": 13,
      "id": "4e0454e8",
      "metadata": {
        "id": "4e0454e8"
      },
      "outputs": [],
      "source": [
        "x = df[['Daily Time Spent on Site', 'Age', 'Area Income','Daily Internet Usage', 'Male']]\n",
        "y = df['Clicked on Ad']"
      ]
    },
    {
      "cell_type": "code",
      "execution_count": 14,
      "id": "d4f59eda",
      "metadata": {
        "id": "d4f59eda"
      },
      "outputs": [],
      "source": [
        "x_train, x_test, y_train, y_test = train_test_split(x, y, test_size=0.33, random_state=42)"
      ]
    },
    {
      "cell_type": "markdown",
      "id": "65a9e46e",
      "metadata": {
        "id": "65a9e46e"
      },
      "source": [
        "# logistic Regression"
      ]
    },
    {
      "cell_type": "code",
      "execution_count": 15,
      "id": "03acad40",
      "metadata": {
        "id": "03acad40"
      },
      "outputs": [],
      "source": [
        "from sklearn.linear_model import LogisticRegression"
      ]
    },
    {
      "cell_type": "code",
      "execution_count": 16,
      "id": "8b7d2bb2",
      "metadata": {
        "colab": {
          "base_uri": "https://localhost:8080/"
        },
        "id": "8b7d2bb2",
        "outputId": "768f0fa1-781d-4463-c1d4-45b0a89497f8"
      },
      "outputs": [
        {
          "output_type": "execute_result",
          "data": {
            "text/plain": [
              "LogisticRegression()"
            ]
          },
          "metadata": {},
          "execution_count": 16
        }
      ],
      "source": [
        "model = LogisticRegression()\n",
        "model.fit(x_train,y_train)"
      ]
    },
    {
      "cell_type": "code",
      "execution_count": 17,
      "id": "0cdb67ba",
      "metadata": {
        "id": "0cdb67ba"
      },
      "outputs": [],
      "source": [
        "predictions = model.predict(x_test)"
      ]
    },
    {
      "cell_type": "code",
      "execution_count": 18,
      "id": "7fcca783",
      "metadata": {
        "id": "7fcca783",
        "outputId": "5c40e77a-3d02-4555-b38e-855609f0154f",
        "colab": {
          "base_uri": "https://localhost:8080/"
        }
      },
      "outputs": [
        {
          "output_type": "execute_result",
          "data": {
            "text/plain": [
              "0.906060606060606"
            ]
          },
          "metadata": {},
          "execution_count": 18
        }
      ],
      "source": [
        "model.score(x_test,y_test)"
      ]
    },
    {
      "cell_type": "markdown",
      "id": "e1c89d37",
      "metadata": {
        "id": "e1c89d37"
      },
      "source": [
        "# classifier"
      ]
    },
    {
      "cell_type": "code",
      "execution_count": 19,
      "id": "9870ce6d",
      "metadata": {
        "id": "9870ce6d"
      },
      "outputs": [],
      "source": [
        "from sklearn.metrics import classification_report"
      ]
    },
    {
      "cell_type": "code",
      "execution_count": 20,
      "id": "2f567e34",
      "metadata": {
        "colab": {
          "base_uri": "https://localhost:8080/"
        },
        "id": "2f567e34",
        "outputId": "f6ec4916-0807-4864-fce6-3ac31e6a3ac7"
      },
      "outputs": [
        {
          "output_type": "stream",
          "name": "stdout",
          "text": [
            "              precision    recall  f1-score   support\n",
            "\n",
            "           0       0.86      0.96      0.91       162\n",
            "           1       0.96      0.85      0.90       168\n",
            "\n",
            "    accuracy                           0.91       330\n",
            "   macro avg       0.91      0.91      0.91       330\n",
            "weighted avg       0.91      0.91      0.91       330\n",
            "\n"
          ]
        }
      ],
      "source": [
        "print(classification_report(y_test,predictions))"
      ]
    }
  ],
  "metadata": {
    "kernelspec": {
      "display_name": "Python 3 (ipykernel)",
      "language": "python",
      "name": "python3"
    },
    "language_info": {
      "codemirror_mode": {
        "name": "ipython",
        "version": 3
      },
      "file_extension": ".py",
      "mimetype": "text/x-python",
      "name": "python",
      "nbconvert_exporter": "python",
      "pygments_lexer": "ipython3",
      "version": "3.9.12"
    },
    "colab": {
      "provenance": [],
      "include_colab_link": true
    }
  },
  "nbformat": 4,
  "nbformat_minor": 5
}